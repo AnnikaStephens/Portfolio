{
  "cells": [
    {
      "cell_type": "markdown",
      "metadata": {
        "id": "view-in-github",
        "colab_type": "text"
      },
      "source": [
        "<a href=\"https://colab.research.google.com/github/AnnikaStephens/Portfolio/blob/main/Feature_selection_based_on_loan_default_probability.ipynb\" target=\"_parent\"><img src=\"https://colab.research.google.com/assets/colab-badge.svg\" alt=\"Open In Colab\"/></a>"
      ]
    },
    {
      "cell_type": "markdown",
      "metadata": {
        "_cell_guid": "83708667-4fdc-1563-7b3a-06b6575d2865",
        "id": "zQhVVBs76lIt"
      },
      "source": [
        "\n",
        "\n",
        "# Loan Default Probability \n",
        "\n",
        "The goal of this case study is to build a machine learning model to predict the probability that a loan will default."
      ]
    },
    {
      "cell_type": "markdown",
      "metadata": {
        "id": "0csDTdmE6lIu"
      },
      "source": [
        "## Content"
      ]
    },
    {
      "cell_type": "markdown",
      "metadata": {
        "id": "gRqV04KU6lIu"
      },
      "source": [
        "* [1. Problem Definition](#0)\n",
        "* [2. Getting Started - Load Libraries and Dataset](#1)\n",
        "    * [2.1. Load Libraries](#1.1)    \n",
        "    * [2.2. Load Dataset](#1.2)\n",
        "* [3. Data Preparation and Feature Selection](#2)\n",
        "    * [3.1. Preparing the predicted variable](#2.1)    \n",
        "    * [3.2. Feature Selection-Limit the Feature Space](#2.2)\n",
        "        * [3.2.1.  Features elimination by significant missing values ](#2.2.1)\n",
        "        * [3.2.2.  Features elimination based on the intutiveness](#2.2.2)\n",
        "        * [3.2.3.  Features elimination based on the correlation](#2.2.3)   \n",
        "* [4. Feature Engineering and Exploratory Analysis](#3)\n",
        "    * [4.1 Feature Analysis and Exploration](#3.1)\n",
        "        * [4.1.1. Analysing the categorical features](#3.1.1)\n",
        "        * [4.1.2  Analysing the continuous features ](#3.1.2) \n",
        "    * [4.2.Encoding Categorical Data](#3.2)\n",
        "    * [4.3.Sampling Data](#3.3)    \n",
        "* [5.Evaluate Algorithms and Models](#4)        \n",
        "    * [5.1. Train/Test Split](#4.1)\n",
        "    * [5.2. Test Options and Evaluation Metrics](#4.2)\n",
        "    * [5.3. Compare Models and Algorithms](#4.3)\n",
        "* [6. Model Tuning and Grid Search](#5)  \n",
        "* [7. Finalize the Model](#6)  \n",
        "    * [7.1. Results on test dataset](#6.1)\n",
        "    * [7.1. Variable Intuition/Feature Selection](#6.2) \n",
        "    * [7.3. Save model for later use](#6.3)\n"
      ]
    },
    {
      "cell_type": "markdown",
      "metadata": {
        "id": "M5xi3iyf6lIv"
      },
      "source": [
        "<a id='0'></a>\n",
        "# 1. Problem Definition"
      ]
    },
    {
      "cell_type": "markdown",
      "metadata": {
        "id": "m-XOJlzW6lIv"
      },
      "source": [
        "The problem is defined in the classification framework, where the predicted variable\n",
        "is “placement ”. A charge-off is a debt that a creditor has given up trying to collect on\n",
        "after you’ve missed payments for several months. The predicted variable takes value 1\n",
        "in case of charge-off and 0 otherwise.\n",
        "\n",
        "This case study aims to analyze data for loans through 2007-2017Q3 from Lending Club available on Kaggle. Dataset contains over 887 thousand observations and 150 variables among which one is describing the loan status. "
      ]
    },
    {
      "cell_type": "markdown",
      "metadata": {
        "id": "-Wsl35Un6lIv"
      },
      "source": [
        "<a id='1'></a>\n",
        "# 2. Getting Started- Loading the data and python packages"
      ]
    },
    {
      "cell_type": "markdown",
      "metadata": {
        "id": "pk96BG0R6lIw"
      },
      "source": [
        "<a id='1.1'></a>\n",
        "## 2.1. Loading the python packages"
      ]
    },
    {
      "cell_type": "code",
      "execution_count": null,
      "metadata": {
        "_cell_guid": "5d8fee34-f454-2642-8b06-ed719f0317e1",
        "id": "1bKfl0JD6lIw"
      },
      "outputs": [],
      "source": [
        "# Load libraries\n",
        "import numpy as np\n",
        "import pandas as pd\n",
        "from matplotlib import pyplot\n",
        "from pandas import read_csv, set_option\n",
        "from pandas.plotting import scatter_matrix\n",
        "import seaborn as sns\n",
        "from sklearn.preprocessing import StandardScaler\n",
        "from sklearn.model_selection import train_test_split, KFold, cross_val_score, GridSearchCV\n",
        "from sklearn.linear_model import LogisticRegression\n",
        "from sklearn.tree import DecisionTreeClassifier\n",
        "from sklearn.neighbors import KNeighborsClassifier\n",
        "from sklearn.discriminant_analysis import LinearDiscriminantAnalysis\n",
        "from sklearn.naive_bayes import GaussianNB\n",
        "from sklearn.svm import SVC\n",
        "from sklearn.neural_network import MLPClassifier\n",
        "from sklearn.pipeline import Pipeline\n",
        "from sklearn.ensemble import AdaBoostClassifier, GradientBoostingClassifier, RandomForestClassifier, ExtraTreesClassifier\n",
        "from sklearn.metrics import classification_report, confusion_matrix, accuracy_score\n",
        "\n",
        "#Libraries for Deep Learning Models\n",
        "from keras.models import Sequential\n",
        "from keras.layers import Dense\n",
        "from keras.wrappers.scikit_learn import KerasClassifier\n",
        "from tensorflow.keras.optimizers import SGD\n",
        "\n",
        "#Libraries for Saving the Model\n",
        "from pickle import dump\n",
        "from pickle import load"
      ]
    },
    {
      "cell_type": "markdown",
      "metadata": {
        "id": "ZGa--ZfI6lIx"
      },
      "source": [
        "<a id='1.2'></a>\n",
        "## 2.2. Loading the Data"
      ]
    },
    {
      "cell_type": "markdown",
      "metadata": {
        "id": "AZgGU2Tm6lIx"
      },
      "source": [
        "We load the data in this step.\n",
        "\n",
        "#### <font color='red'>Note : Due to limit in the github for the data size, a sample of the data has been loaded in the jupyter notebook repository of this book. However, all the subsequent results in this jupyter notebook is with actual data (~1GB) under https://www.kaggle.com/mlfinancebook/lending-club-loans-data. You should load the full data in case you want to reproduce the results. </font> "
      ]
    },
    {
      "cell_type": "code",
      "source": [
        "#load dataset\n",
        "import io\n",
        "import pandas as pd\n",
        "from google.colab import files\n",
        "\n",
        "uploaded = files.upload()"
      ],
      "metadata": {
        "colab": {
          "resources": {
            "http://localhost:8080/nbextensions/google.colab/files.js": {
              "data": "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",
              "ok": true,
              "headers": [
                [
                  "content-type",
                  "application/javascript"
                ]
              ],
              "status": 200,
              "status_text": "OK"
            }
          },
          "base_uri": "https://localhost:8080/",
          "height": 39
        },
        "id": "iB9FOdQA76lu",
        "outputId": "b72d1ac5-057c-4a49-a7d8-82091929ca94"
      },
      "execution_count": null,
      "outputs": [
        {
          "data": {
            "text/html": [
              "\n",
              "     <input type=\"file\" id=\"files-b5377876-9d48-4ad0-950b-f80453a565c3\" name=\"files[]\" multiple disabled\n",
              "        style=\"border:none\" />\n",
              "     <output id=\"result-b5377876-9d48-4ad0-950b-f80453a565c3\">\n",
              "      Upload widget is only available when the cell has been executed in the\n",
              "      current browser session. Please rerun this cell to enable.\n",
              "      </output>\n",
              "      <script src=\"/nbextensions/google.colab/files.js\"></script> "
            ],
            "text/plain": [
              "<IPython.core.display.HTML object>"
            ]
          },
          "metadata": {},
          "output_type": "display_data"
        }
      ]
    },
    {
      "cell_type": "code",
      "source": [
        "placement = pd.read_excel(io.BytesIO(uploaded.get('MBAselection.xlsx')))"
      ],
      "metadata": {
        "id": "OW0WC4VK8bKB"
      },
      "execution_count": null,
      "outputs": []
    },
    {
      "cell_type": "code",
      "source": [
        "dataset = placement"
      ],
      "metadata": {
        "id": "GLWnAQ-I8zUa"
      },
      "execution_count": null,
      "outputs": []
    },
    {
      "cell_type": "code",
      "execution_count": null,
      "metadata": {
        "id": "O6gHZy8t6lIy"
      },
      "outputs": [],
      "source": [
        "#Diable the warnings\n",
        "import warnings\n",
        "warnings.filterwarnings('ignore')"
      ]
    },
    {
      "cell_type": "code",
      "execution_count": null,
      "metadata": {
        "id": "mMS-60-w6lIy",
        "outputId": "2ad34e04-6bea-4d39-8e38-50d8bab4ed37",
        "colab": {
          "base_uri": "https://localhost:8080/"
        }
      },
      "outputs": [
        {
          "output_type": "execute_result",
          "data": {
            "text/plain": [
              "pandas.core.frame.DataFrame"
            ]
          },
          "metadata": {},
          "execution_count": 67
        }
      ],
      "source": [
        "type(dataset)"
      ]
    },
    {
      "cell_type": "markdown",
      "metadata": {
        "id": "PLXpjQmm6lIy"
      },
      "source": [
        "<a id='2'></a>\n",
        "## 3. Data Preparation and Feature Selection"
      ]
    },
    {
      "cell_type": "markdown",
      "metadata": {
        "id": "vJWTyqMl6lIz"
      },
      "source": [
        "<a id='2.1'></a>\n",
        "## 3.1. Preparing the predicted variable\n"
      ]
    },
    {
      "cell_type": "code",
      "execution_count": null,
      "metadata": {
        "scrolled": true,
        "id": "A-HkFPZV6lIz",
        "outputId": "b896237d-04f1-4f19-9354-041f83c716ba",
        "colab": {
          "base_uri": "https://localhost:8080/"
        }
      },
      "outputs": [
        {
          "output_type": "execute_result",
          "data": {
            "text/plain": [
              "Placed        312\n",
              "Not Placed     79\n",
              "Name: Placement, dtype: int64"
            ]
          },
          "metadata": {},
          "execution_count": 68
        }
      ],
      "source": [
        "# We're going to try to predict the placement_status variable. What are the value counts for this variable\n",
        "dataset['Placement'].value_counts(dropna=False)"
      ]
    },
    {
      "cell_type": "markdown",
      "metadata": {
        "id": "u3eAj3GI6lIz"
      },
      "source": [
        "We're going to try to learn differences in the features between completed loans that have been fully paid or charged off. We won't consider loans that are current, don't meet the credit policy, defaulted, or have a missing status. So we only keep the loans with status \"Fully Paid\" or \"Charged Off.\""
      ]
    },
    {
      "cell_type": "code",
      "execution_count": null,
      "metadata": {
        "id": "shmn-Tjv6lIz",
        "outputId": "3f0669d6-17a7-45c0-a1a0-d159dd219d03",
        "colab": {
          "base_uri": "https://localhost:8080/"
        }
      },
      "outputs": [
        {
          "output_type": "execute_result",
          "data": {
            "text/plain": [
              "Placed        0.797954\n",
              "Not Placed    0.202046\n",
              "Name: Placement, dtype: float64"
            ]
          },
          "metadata": {},
          "execution_count": 69
        }
      ],
      "source": [
        "dataset = dataset.loc[dataset['Placement'].isin(['Placed', 'Not Placed'])]\n",
        "\n",
        "dataset['Placement'].value_counts(dropna=False)\n",
        "\n",
        "dataset['Placement'].value_counts(normalize=True, dropna=False)"
      ]
    },
    {
      "cell_type": "markdown",
      "metadata": {
        "id": "jkdMUn9n6lI0"
      },
      "source": [
        "About 80% of the remaining loans have been fully paid and 20% have charged off, so we have a somewhat unbalanced classification problem."
      ]
    },
    {
      "cell_type": "code",
      "source": [
        "dataset['Placed'] = (dataset['Placement'] == 'Placed').apply(np.uint8)\n",
        "dataset.drop('Placement', axis=1, inplace=True)"
      ],
      "metadata": {
        "id": "Aezec8K2F1UI"
      },
      "execution_count": null,
      "outputs": []
    },
    {
      "cell_type": "markdown",
      "metadata": {
        "id": "QRKJ5p646lI0"
      },
      "source": [
        "<a id='2.2'></a>\n",
        "## 3.2. Feature Selection-Limit the Feature Space "
      ]
    },
    {
      "cell_type": "markdown",
      "metadata": {
        "id": "IivZaZgU6lI0"
      },
      "source": [
        "The full dataset has 150 features for each\n",
        "loan. We’ll eliminate\n",
        "features in following steps using three different approaches:\n",
        "* Eliminate feature that have more than 30% missing values.\n",
        "* Eliminate features that are unintuitive based on subjective judgement.\n",
        "* Eliminate features with low correlation with the predicted variable"
      ]
    },
    {
      "cell_type": "markdown",
      "metadata": {
        "id": "247hqZMh6lI1"
      },
      "source": [
        "<a id='2.2.2'></a>\n",
        "### 3.2.2.  Features elimination - intutiveness"
      ]
    },
    {
      "cell_type": "markdown",
      "metadata": {
        "id": "ifzUUSyg6lI2"
      },
      "source": [
        "In order to filter the features further we check the description in the data dictionary and keep the features that are\n",
        "intuitive on the basis of subjective judgement. \n",
        "\n",
        "We examine the LendingClub website and Data Dictionary to determine which features would have been available to potential investors. Here's the list of features we currently have, in alphabetical order:"
      ]
    },
    {
      "cell_type": "code",
      "execution_count": null,
      "metadata": {
        "id": "vlfPVtTx6lI2",
        "outputId": "1c1450fc-5a78-41c6-b0f1-ae8872520854",
        "colab": {
          "base_uri": "https://localhost:8080/"
        }
      },
      "outputs": [
        {
          "output_type": "stream",
          "name": "stdout",
          "text": [
            "['Board_CBSE', 'Board_HSC', 'Board_ICSE', 'Board_SSC', 'Course_Degree', 'Degree_Engg', 'Entrance_Test', 'Experience_Yrs', 'Gender', 'Gender-B', 'Marks_BOCA', 'Marks_Communication', 'Marks_Projectwork', 'Percent_Degree', 'Percent_HSC', 'Percent_MBA', 'Percent_SSC', 'Percentile_ET', 'Placed', 'Placement_B', 'S-TEST', 'S-TEST*SCORE', 'Salary', 'SlNo', 'Specialization_MBA', 'Stream_HSC']\n"
          ]
        }
      ],
      "source": [
        "print(sorted(dataset.columns))"
      ]
    },
    {
      "cell_type": "markdown",
      "metadata": {
        "id": "F24nWY9u6lI2"
      },
      "source": [
        "The list that is kept is as follows: "
      ]
    },
    {
      "cell_type": "code",
      "execution_count": null,
      "metadata": {
        "id": "i-i9yAr46lI2",
        "outputId": "5cba8351-2fe3-4c7c-b2e0-edd9752d0710",
        "colab": {
          "base_uri": "https://localhost:8080/"
        }
      },
      "outputs": [
        {
          "output_type": "execute_result",
          "data": {
            "text/plain": [
              "24"
            ]
          },
          "metadata": {},
          "execution_count": 71
        }
      ],
      "source": [
        "keep_list = ['Board_CBSE', 'Board_HSC', 'Board_ICSE', 'Board_SSC', 'Course_Degree', 'Degree_Engg', 'Entrance_Test', 'Experience_Yrs', 'Gender', 'Gender-B', 'Marks_BOCA', 'Marks_Communication', 'Marks_Projectwork', 'Percent_Degree', 'Percent_HSC', 'Percent_MBA', 'Percent_SSC', 'Percentile_ET', 'Placement', 'Placement_B', 'S-TEST', 'S-TEST*SCORE', 'Specialization_MBA', 'Stream_HSC']\n",
        "\n",
        "len(keep_list)"
      ]
    },
    {
      "cell_type": "code",
      "execution_count": null,
      "metadata": {
        "id": "gWJ9UBdA6lI2",
        "outputId": "f3c7bec0-de8a-4994-91ad-1b33e0f77aa7",
        "colab": {
          "base_uri": "https://localhost:8080/"
        }
      },
      "outputs": [
        {
          "output_type": "execute_result",
          "data": {
            "text/plain": [
              "(391, 23)"
            ]
          },
          "metadata": {},
          "execution_count": 73
        }
      ],
      "source": [
        "drop_list = [col for col in dataset.columns if col not in keep_list]\n",
        "\n",
        "dataset.drop(labels=drop_list, axis=1, inplace=True)\n",
        "\n",
        "dataset.shape"
      ]
    },
    {
      "cell_type": "markdown",
      "metadata": {
        "id": "am-WeYiK6lI3"
      },
      "source": [
        "<a id='2.2.3'></a>\n",
        "### 3.2.3.  Features elimination based on the correlation"
      ]
    },
    {
      "cell_type": "code",
      "execution_count": null,
      "metadata": {
        "id": "RvR0iZEb6lI3",
        "colab": {
          "base_uri": "https://localhost:8080/",
          "height": 525
        },
        "outputId": "f5edfd65-442f-4c51-b679-b648f9142278"
      },
      "outputs": [
        {
          "output_type": "error",
          "ename": "KeyError",
          "evalue": "ignored",
          "traceback": [
            "\u001b[0;31m---------------------------------------------------------------------------\u001b[0m",
            "\u001b[0;31mKeyError\u001b[0m                                  Traceback (most recent call last)",
            "\u001b[0;32m/usr/local/lib/python3.7/dist-packages/pandas/core/indexes/base.py\u001b[0m in \u001b[0;36mget_loc\u001b[0;34m(self, key, method, tolerance)\u001b[0m\n\u001b[1;32m   3360\u001b[0m             \u001b[0;32mtry\u001b[0m\u001b[0;34m:\u001b[0m\u001b[0;34m\u001b[0m\u001b[0;34m\u001b[0m\u001b[0m\n\u001b[0;32m-> 3361\u001b[0;31m                 \u001b[0;32mreturn\u001b[0m \u001b[0mself\u001b[0m\u001b[0;34m.\u001b[0m\u001b[0m_engine\u001b[0m\u001b[0;34m.\u001b[0m\u001b[0mget_loc\u001b[0m\u001b[0;34m(\u001b[0m\u001b[0mcasted_key\u001b[0m\u001b[0;34m)\u001b[0m\u001b[0;34m\u001b[0m\u001b[0;34m\u001b[0m\u001b[0m\n\u001b[0m\u001b[1;32m   3362\u001b[0m             \u001b[0;32mexcept\u001b[0m \u001b[0mKeyError\u001b[0m \u001b[0;32mas\u001b[0m \u001b[0merr\u001b[0m\u001b[0;34m:\u001b[0m\u001b[0;34m\u001b[0m\u001b[0;34m\u001b[0m\u001b[0m\n",
            "\u001b[0;32m/usr/local/lib/python3.7/dist-packages/pandas/_libs/index.pyx\u001b[0m in \u001b[0;36mpandas._libs.index.IndexEngine.get_loc\u001b[0;34m()\u001b[0m\n",
            "\u001b[0;32m/usr/local/lib/python3.7/dist-packages/pandas/_libs/index.pyx\u001b[0m in \u001b[0;36mpandas._libs.index.IndexEngine.get_loc\u001b[0;34m()\u001b[0m\n",
            "\u001b[0;32mpandas/_libs/hashtable_class_helper.pxi\u001b[0m in \u001b[0;36mpandas._libs.hashtable.PyObjectHashTable.get_item\u001b[0;34m()\u001b[0m\n",
            "\u001b[0;32mpandas/_libs/hashtable_class_helper.pxi\u001b[0m in \u001b[0;36mpandas._libs.hashtable.PyObjectHashTable.get_item\u001b[0;34m()\u001b[0m\n",
            "\u001b[0;31mKeyError\u001b[0m: 'Placed'",
            "\nThe above exception was the direct cause of the following exception:\n",
            "\u001b[0;31mKeyError\u001b[0m                                  Traceback (most recent call last)",
            "\u001b[0;32m<ipython-input-74-8e9bb5af8f84>\u001b[0m in \u001b[0;36m<module>\u001b[0;34m()\u001b[0m\n\u001b[1;32m      1\u001b[0m \u001b[0mcorrelation\u001b[0m \u001b[0;34m=\u001b[0m \u001b[0mdataset\u001b[0m\u001b[0;34m.\u001b[0m\u001b[0mcorr\u001b[0m\u001b[0;34m(\u001b[0m\u001b[0;34m)\u001b[0m\u001b[0;34m\u001b[0m\u001b[0;34m\u001b[0m\u001b[0m\n\u001b[0;32m----> 2\u001b[0;31m \u001b[0mcorrelation_Placed\u001b[0m \u001b[0;34m=\u001b[0m \u001b[0mabs\u001b[0m\u001b[0;34m(\u001b[0m\u001b[0mcorrelation\u001b[0m\u001b[0;34m[\u001b[0m\u001b[0;34m'Placed'\u001b[0m\u001b[0;34m]\u001b[0m\u001b[0;34m)\u001b[0m\u001b[0;34m\u001b[0m\u001b[0;34m\u001b[0m\u001b[0m\n\u001b[0m",
            "\u001b[0;32m/usr/local/lib/python3.7/dist-packages/pandas/core/frame.py\u001b[0m in \u001b[0;36m__getitem__\u001b[0;34m(self, key)\u001b[0m\n\u001b[1;32m   3456\u001b[0m             \u001b[0;32mif\u001b[0m \u001b[0mself\u001b[0m\u001b[0;34m.\u001b[0m\u001b[0mcolumns\u001b[0m\u001b[0;34m.\u001b[0m\u001b[0mnlevels\u001b[0m \u001b[0;34m>\u001b[0m \u001b[0;36m1\u001b[0m\u001b[0;34m:\u001b[0m\u001b[0;34m\u001b[0m\u001b[0;34m\u001b[0m\u001b[0m\n\u001b[1;32m   3457\u001b[0m                 \u001b[0;32mreturn\u001b[0m \u001b[0mself\u001b[0m\u001b[0;34m.\u001b[0m\u001b[0m_getitem_multilevel\u001b[0m\u001b[0;34m(\u001b[0m\u001b[0mkey\u001b[0m\u001b[0;34m)\u001b[0m\u001b[0;34m\u001b[0m\u001b[0;34m\u001b[0m\u001b[0m\n\u001b[0;32m-> 3458\u001b[0;31m             \u001b[0mindexer\u001b[0m \u001b[0;34m=\u001b[0m \u001b[0mself\u001b[0m\u001b[0;34m.\u001b[0m\u001b[0mcolumns\u001b[0m\u001b[0;34m.\u001b[0m\u001b[0mget_loc\u001b[0m\u001b[0;34m(\u001b[0m\u001b[0mkey\u001b[0m\u001b[0;34m)\u001b[0m\u001b[0;34m\u001b[0m\u001b[0;34m\u001b[0m\u001b[0m\n\u001b[0m\u001b[1;32m   3459\u001b[0m             \u001b[0;32mif\u001b[0m \u001b[0mis_integer\u001b[0m\u001b[0;34m(\u001b[0m\u001b[0mindexer\u001b[0m\u001b[0;34m)\u001b[0m\u001b[0;34m:\u001b[0m\u001b[0;34m\u001b[0m\u001b[0;34m\u001b[0m\u001b[0m\n\u001b[1;32m   3460\u001b[0m                 \u001b[0mindexer\u001b[0m \u001b[0;34m=\u001b[0m \u001b[0;34m[\u001b[0m\u001b[0mindexer\u001b[0m\u001b[0;34m]\u001b[0m\u001b[0;34m\u001b[0m\u001b[0;34m\u001b[0m\u001b[0m\n",
            "\u001b[0;32m/usr/local/lib/python3.7/dist-packages/pandas/core/indexes/base.py\u001b[0m in \u001b[0;36mget_loc\u001b[0;34m(self, key, method, tolerance)\u001b[0m\n\u001b[1;32m   3361\u001b[0m                 \u001b[0;32mreturn\u001b[0m \u001b[0mself\u001b[0m\u001b[0;34m.\u001b[0m\u001b[0m_engine\u001b[0m\u001b[0;34m.\u001b[0m\u001b[0mget_loc\u001b[0m\u001b[0;34m(\u001b[0m\u001b[0mcasted_key\u001b[0m\u001b[0;34m)\u001b[0m\u001b[0;34m\u001b[0m\u001b[0;34m\u001b[0m\u001b[0m\n\u001b[1;32m   3362\u001b[0m             \u001b[0;32mexcept\u001b[0m \u001b[0mKeyError\u001b[0m \u001b[0;32mas\u001b[0m \u001b[0merr\u001b[0m\u001b[0;34m:\u001b[0m\u001b[0;34m\u001b[0m\u001b[0;34m\u001b[0m\u001b[0m\n\u001b[0;32m-> 3363\u001b[0;31m                 \u001b[0;32mraise\u001b[0m \u001b[0mKeyError\u001b[0m\u001b[0;34m(\u001b[0m\u001b[0mkey\u001b[0m\u001b[0;34m)\u001b[0m \u001b[0;32mfrom\u001b[0m \u001b[0merr\u001b[0m\u001b[0;34m\u001b[0m\u001b[0;34m\u001b[0m\u001b[0m\n\u001b[0m\u001b[1;32m   3364\u001b[0m \u001b[0;34m\u001b[0m\u001b[0m\n\u001b[1;32m   3365\u001b[0m         \u001b[0;32mif\u001b[0m \u001b[0mis_scalar\u001b[0m\u001b[0;34m(\u001b[0m\u001b[0mkey\u001b[0m\u001b[0;34m)\u001b[0m \u001b[0;32mand\u001b[0m \u001b[0misna\u001b[0m\u001b[0;34m(\u001b[0m\u001b[0mkey\u001b[0m\u001b[0;34m)\u001b[0m \u001b[0;32mand\u001b[0m \u001b[0;32mnot\u001b[0m \u001b[0mself\u001b[0m\u001b[0;34m.\u001b[0m\u001b[0mhasnans\u001b[0m\u001b[0;34m:\u001b[0m\u001b[0;34m\u001b[0m\u001b[0;34m\u001b[0m\u001b[0m\n",
            "\u001b[0;31mKeyError\u001b[0m: 'Placed'"
          ]
        }
      ],
      "source": [
        "correlation = dataset.corr()\n",
        "correlation_Placed = abs(correlation['Placed'])"
      ]
    },
    {
      "cell_type": "code",
      "execution_count": null,
      "metadata": {
        "id": "0cUBfmKy6lI3",
        "outputId": "228e7713-127f-4b1f-9ecd-08637accda19",
        "colab": {
          "base_uri": "https://localhost:8080/"
        }
      },
      "outputs": [
        {
          "output_type": "execute_result",
          "data": {
            "text/plain": [
              "Placement_B            1.000000\n",
              "Not_Placed             1.000000\n",
              "Percent_SSC            0.168500\n",
              "Percentile_ET          0.130938\n",
              "S-TEST*SCORE           0.130938\n",
              "Marks_Projectwork      0.105943\n",
              "Percent_MBA            0.079643\n",
              "Marks_BOCA             0.069151\n",
              "Experience_Yrs         0.064843\n",
              "Gender-B               0.059032\n",
              "Board_CBSE             0.053834\n",
              "Percent_HSC            0.052237\n",
              "Percent_Degree         0.052120\n",
              "S-TEST                 0.041632\n",
              "Board_ICSE             0.023104\n",
              "Marks_Communication    0.010575\n",
              "Degree_Engg            0.010352\n",
              "Name: Not_Placed, dtype: float64"
            ]
          },
          "metadata": {},
          "execution_count": 41
        }
      ],
      "source": [
        "correlation_NotPlaced.sort_values(ascending=False)"
      ]
    },
    {
      "cell_type": "code",
      "execution_count": null,
      "metadata": {
        "id": "_MrNnyAM6lI3",
        "outputId": "2ec9655c-da04-4305-c353-99f21474351f",
        "colab": {
          "base_uri": "https://localhost:8080/"
        }
      },
      "outputs": [
        {
          "output_type": "stream",
          "name": "stdout",
          "text": [
            "['Board_ICSE', 'Degree_Engg', 'Marks_Communication']\n"
          ]
        }
      ],
      "source": [
        "drop_list_corr = sorted(list(correlation_NotPlaced[correlation_NotPlaced < 0.03].index))\n",
        "print(drop_list_corr)"
      ]
    },
    {
      "cell_type": "code",
      "execution_count": null,
      "metadata": {
        "id": "QaPFH86Q6lI3",
        "outputId": "3863a3d2-0326-4510-d2b2-9669c382021f",
        "colab": {
          "base_uri": "https://localhost:8080/"
        }
      },
      "outputs": [
        {
          "output_type": "execute_result",
          "data": {
            "text/plain": [
              "(391, 21)"
            ]
          },
          "metadata": {},
          "execution_count": 43
        }
      ],
      "source": [
        "dataset.drop(labels=drop_list_corr, axis=1, inplace=True)\n",
        "dataset.shape"
      ]
    },
    {
      "cell_type": "markdown",
      "metadata": {
        "id": "jf-L4Sn86lI3"
      },
      "source": [
        "<a id='3'></a>\n",
        "# 4. Feature Engineering and Exploratory Analysis"
      ]
    },
    {
      "cell_type": "code",
      "execution_count": null,
      "metadata": {
        "id": "uDRxu-kY6lI3",
        "outputId": "39fdf4e4-e0c4-4c46-a70b-ae4195e97844",
        "colab": {
          "base_uri": "https://localhost:8080/",
          "height": 364
        }
      },
      "outputs": [
        {
          "output_type": "execute_result",
          "data": {
            "text/plain": [
              "         Gender-B  Percent_SSC  Board_CBSE  Percent_HSC  Percent_Degree  \\\n",
              "count  391.000000   391.000000  391.000000   391.000000      391.000000   \n",
              "mean     0.324808    64.652353    0.289003    63.795294       62.983606   \n",
              "std      0.468903    10.960426    0.453880    11.417726        8.916152   \n",
              "min      0.000000    37.000000    0.000000    40.000000       35.000000   \n",
              "25%      0.000000    56.000000    0.000000    54.000000       57.525000   \n",
              "50%      0.000000    64.500000    0.000000    63.000000       63.000000   \n",
              "75%      1.000000    74.000000    1.000000    72.000000       69.000000   \n",
              "max      1.000000    87.200000    1.000000    94.700000       89.000000   \n",
              "\n",
              "       Experience_Yrs      S-TEST  Percentile_ET  Percent_MBA  S-TEST*SCORE  \\\n",
              "count      391.000000  391.000000     391.000000   391.000000    391.000000   \n",
              "mean         0.478261    0.828645      54.934962    61.667698     54.934962   \n",
              "std          0.667112    0.377302      31.168264     5.854399     31.168264   \n",
              "min          0.000000    0.000000       0.000000    50.830000      0.000000   \n",
              "25%          0.000000    1.000000      41.190000    57.195000     41.190000   \n",
              "50%          0.000000    1.000000      62.000000    61.010000     62.000000   \n",
              "75%          1.000000    1.000000      78.000000    66.020000     78.000000   \n",
              "max          3.000000    1.000000      98.690000    77.890000     98.690000   \n",
              "\n",
              "       Marks_Projectwork  Marks_BOCA  Placement_B  Not_Placed  \n",
              "count         391.000000  391.000000   391.000000  391.000000  \n",
              "mean           68.363171   64.378517     0.797954    0.202046  \n",
              "std             7.145095    9.582834     0.402041    0.402041  \n",
              "min            50.000000   50.000000     0.000000    0.000000  \n",
              "25%            64.000000   57.000000     1.000000    0.000000  \n",
              "50%            69.000000   63.000000     1.000000    0.000000  \n",
              "75%            74.000000   72.500000     1.000000    0.000000  \n",
              "max            87.000000   96.000000     1.000000    1.000000  "
            ],
            "text/html": [
              "\n",
              "  <div id=\"df-e091aa83-4305-42f9-bc9a-de16fda38490\">\n",
              "    <div class=\"colab-df-container\">\n",
              "      <div>\n",
              "<style scoped>\n",
              "    .dataframe tbody tr th:only-of-type {\n",
              "        vertical-align: middle;\n",
              "    }\n",
              "\n",
              "    .dataframe tbody tr th {\n",
              "        vertical-align: top;\n",
              "    }\n",
              "\n",
              "    .dataframe thead th {\n",
              "        text-align: right;\n",
              "    }\n",
              "</style>\n",
              "<table border=\"1\" class=\"dataframe\">\n",
              "  <thead>\n",
              "    <tr style=\"text-align: right;\">\n",
              "      <th></th>\n",
              "      <th>Gender-B</th>\n",
              "      <th>Percent_SSC</th>\n",
              "      <th>Board_CBSE</th>\n",
              "      <th>Percent_HSC</th>\n",
              "      <th>Percent_Degree</th>\n",
              "      <th>Experience_Yrs</th>\n",
              "      <th>S-TEST</th>\n",
              "      <th>Percentile_ET</th>\n",
              "      <th>Percent_MBA</th>\n",
              "      <th>S-TEST*SCORE</th>\n",
              "      <th>Marks_Projectwork</th>\n",
              "      <th>Marks_BOCA</th>\n",
              "      <th>Placement_B</th>\n",
              "      <th>Not_Placed</th>\n",
              "    </tr>\n",
              "  </thead>\n",
              "  <tbody>\n",
              "    <tr>\n",
              "      <th>count</th>\n",
              "      <td>391.000000</td>\n",
              "      <td>391.000000</td>\n",
              "      <td>391.000000</td>\n",
              "      <td>391.000000</td>\n",
              "      <td>391.000000</td>\n",
              "      <td>391.000000</td>\n",
              "      <td>391.000000</td>\n",
              "      <td>391.000000</td>\n",
              "      <td>391.000000</td>\n",
              "      <td>391.000000</td>\n",
              "      <td>391.000000</td>\n",
              "      <td>391.000000</td>\n",
              "      <td>391.000000</td>\n",
              "      <td>391.000000</td>\n",
              "    </tr>\n",
              "    <tr>\n",
              "      <th>mean</th>\n",
              "      <td>0.324808</td>\n",
              "      <td>64.652353</td>\n",
              "      <td>0.289003</td>\n",
              "      <td>63.795294</td>\n",
              "      <td>62.983606</td>\n",
              "      <td>0.478261</td>\n",
              "      <td>0.828645</td>\n",
              "      <td>54.934962</td>\n",
              "      <td>61.667698</td>\n",
              "      <td>54.934962</td>\n",
              "      <td>68.363171</td>\n",
              "      <td>64.378517</td>\n",
              "      <td>0.797954</td>\n",
              "      <td>0.202046</td>\n",
              "    </tr>\n",
              "    <tr>\n",
              "      <th>std</th>\n",
              "      <td>0.468903</td>\n",
              "      <td>10.960426</td>\n",
              "      <td>0.453880</td>\n",
              "      <td>11.417726</td>\n",
              "      <td>8.916152</td>\n",
              "      <td>0.667112</td>\n",
              "      <td>0.377302</td>\n",
              "      <td>31.168264</td>\n",
              "      <td>5.854399</td>\n",
              "      <td>31.168264</td>\n",
              "      <td>7.145095</td>\n",
              "      <td>9.582834</td>\n",
              "      <td>0.402041</td>\n",
              "      <td>0.402041</td>\n",
              "    </tr>\n",
              "    <tr>\n",
              "      <th>min</th>\n",
              "      <td>0.000000</td>\n",
              "      <td>37.000000</td>\n",
              "      <td>0.000000</td>\n",
              "      <td>40.000000</td>\n",
              "      <td>35.000000</td>\n",
              "      <td>0.000000</td>\n",
              "      <td>0.000000</td>\n",
              "      <td>0.000000</td>\n",
              "      <td>50.830000</td>\n",
              "      <td>0.000000</td>\n",
              "      <td>50.000000</td>\n",
              "      <td>50.000000</td>\n",
              "      <td>0.000000</td>\n",
              "      <td>0.000000</td>\n",
              "    </tr>\n",
              "    <tr>\n",
              "      <th>25%</th>\n",
              "      <td>0.000000</td>\n",
              "      <td>56.000000</td>\n",
              "      <td>0.000000</td>\n",
              "      <td>54.000000</td>\n",
              "      <td>57.525000</td>\n",
              "      <td>0.000000</td>\n",
              "      <td>1.000000</td>\n",
              "      <td>41.190000</td>\n",
              "      <td>57.195000</td>\n",
              "      <td>41.190000</td>\n",
              "      <td>64.000000</td>\n",
              "      <td>57.000000</td>\n",
              "      <td>1.000000</td>\n",
              "      <td>0.000000</td>\n",
              "    </tr>\n",
              "    <tr>\n",
              "      <th>50%</th>\n",
              "      <td>0.000000</td>\n",
              "      <td>64.500000</td>\n",
              "      <td>0.000000</td>\n",
              "      <td>63.000000</td>\n",
              "      <td>63.000000</td>\n",
              "      <td>0.000000</td>\n",
              "      <td>1.000000</td>\n",
              "      <td>62.000000</td>\n",
              "      <td>61.010000</td>\n",
              "      <td>62.000000</td>\n",
              "      <td>69.000000</td>\n",
              "      <td>63.000000</td>\n",
              "      <td>1.000000</td>\n",
              "      <td>0.000000</td>\n",
              "    </tr>\n",
              "    <tr>\n",
              "      <th>75%</th>\n",
              "      <td>1.000000</td>\n",
              "      <td>74.000000</td>\n",
              "      <td>1.000000</td>\n",
              "      <td>72.000000</td>\n",
              "      <td>69.000000</td>\n",
              "      <td>1.000000</td>\n",
              "      <td>1.000000</td>\n",
              "      <td>78.000000</td>\n",
              "      <td>66.020000</td>\n",
              "      <td>78.000000</td>\n",
              "      <td>74.000000</td>\n",
              "      <td>72.500000</td>\n",
              "      <td>1.000000</td>\n",
              "      <td>0.000000</td>\n",
              "    </tr>\n",
              "    <tr>\n",
              "      <th>max</th>\n",
              "      <td>1.000000</td>\n",
              "      <td>87.200000</td>\n",
              "      <td>1.000000</td>\n",
              "      <td>94.700000</td>\n",
              "      <td>89.000000</td>\n",
              "      <td>3.000000</td>\n",
              "      <td>1.000000</td>\n",
              "      <td>98.690000</td>\n",
              "      <td>77.890000</td>\n",
              "      <td>98.690000</td>\n",
              "      <td>87.000000</td>\n",
              "      <td>96.000000</td>\n",
              "      <td>1.000000</td>\n",
              "      <td>1.000000</td>\n",
              "    </tr>\n",
              "  </tbody>\n",
              "</table>\n",
              "</div>\n",
              "      <button class=\"colab-df-convert\" onclick=\"convertToInteractive('df-e091aa83-4305-42f9-bc9a-de16fda38490')\"\n",
              "              title=\"Convert this dataframe to an interactive table.\"\n",
              "              style=\"display:none;\">\n",
              "        \n",
              "  <svg xmlns=\"http://www.w3.org/2000/svg\" height=\"24px\"viewBox=\"0 0 24 24\"\n",
              "       width=\"24px\">\n",
              "    <path d=\"M0 0h24v24H0V0z\" fill=\"none\"/>\n",
              "    <path d=\"M18.56 5.44l.94 2.06.94-2.06 2.06-.94-2.06-.94-.94-2.06-.94 2.06-2.06.94zm-11 1L8.5 8.5l.94-2.06 2.06-.94-2.06-.94L8.5 2.5l-.94 2.06-2.06.94zm10 10l.94 2.06.94-2.06 2.06-.94-2.06-.94-.94-2.06-.94 2.06-2.06.94z\"/><path d=\"M17.41 7.96l-1.37-1.37c-.4-.4-.92-.59-1.43-.59-.52 0-1.04.2-1.43.59L10.3 9.45l-7.72 7.72c-.78.78-.78 2.05 0 2.83L4 21.41c.39.39.9.59 1.41.59.51 0 1.02-.2 1.41-.59l7.78-7.78 2.81-2.81c.8-.78.8-2.07 0-2.86zM5.41 20L4 18.59l7.72-7.72 1.47 1.35L5.41 20z\"/>\n",
              "  </svg>\n",
              "      </button>\n",
              "      \n",
              "  <style>\n",
              "    .colab-df-container {\n",
              "      display:flex;\n",
              "      flex-wrap:wrap;\n",
              "      gap: 12px;\n",
              "    }\n",
              "\n",
              "    .colab-df-convert {\n",
              "      background-color: #E8F0FE;\n",
              "      border: none;\n",
              "      border-radius: 50%;\n",
              "      cursor: pointer;\n",
              "      display: none;\n",
              "      fill: #1967D2;\n",
              "      height: 32px;\n",
              "      padding: 0 0 0 0;\n",
              "      width: 32px;\n",
              "    }\n",
              "\n",
              "    .colab-df-convert:hover {\n",
              "      background-color: #E2EBFA;\n",
              "      box-shadow: 0px 1px 2px rgba(60, 64, 67, 0.3), 0px 1px 3px 1px rgba(60, 64, 67, 0.15);\n",
              "      fill: #174EA6;\n",
              "    }\n",
              "\n",
              "    [theme=dark] .colab-df-convert {\n",
              "      background-color: #3B4455;\n",
              "      fill: #D2E3FC;\n",
              "    }\n",
              "\n",
              "    [theme=dark] .colab-df-convert:hover {\n",
              "      background-color: #434B5C;\n",
              "      box-shadow: 0px 1px 3px 1px rgba(0, 0, 0, 0.15);\n",
              "      filter: drop-shadow(0px 1px 2px rgba(0, 0, 0, 0.3));\n",
              "      fill: #FFFFFF;\n",
              "    }\n",
              "  </style>\n",
              "\n",
              "      <script>\n",
              "        const buttonEl =\n",
              "          document.querySelector('#df-e091aa83-4305-42f9-bc9a-de16fda38490 button.colab-df-convert');\n",
              "        buttonEl.style.display =\n",
              "          google.colab.kernel.accessAllowed ? 'block' : 'none';\n",
              "\n",
              "        async function convertToInteractive(key) {\n",
              "          const element = document.querySelector('#df-e091aa83-4305-42f9-bc9a-de16fda38490');\n",
              "          const dataTable =\n",
              "            await google.colab.kernel.invokeFunction('convertToInteractive',\n",
              "                                                     [key], {});\n",
              "          if (!dataTable) return;\n",
              "\n",
              "          const docLinkHtml = 'Like what you see? Visit the ' +\n",
              "            '<a target=\"_blank\" href=https://colab.research.google.com/notebooks/data_table.ipynb>data table notebook</a>'\n",
              "            + ' to learn more about interactive tables.';\n",
              "          element.innerHTML = '';\n",
              "          dataTable['output_type'] = 'display_data';\n",
              "          await google.colab.output.renderOutput(dataTable, element);\n",
              "          const docLink = document.createElement('div');\n",
              "          docLink.innerHTML = docLinkHtml;\n",
              "          element.appendChild(docLink);\n",
              "        }\n",
              "      </script>\n",
              "    </div>\n",
              "  </div>\n",
              "  "
            ]
          },
          "metadata": {},
          "execution_count": 44
        }
      ],
      "source": [
        "#Descriptive Statistics\n",
        "dataset.describe()"
      ]
    },
    {
      "cell_type": "markdown",
      "metadata": {
        "id": "4PAwoDH86lI3"
      },
      "source": [
        "<a id='3.1'></a>\n",
        "## 4.1 Feature Analysis and Exploration"
      ]
    },
    {
      "cell_type": "markdown",
      "metadata": {
        "id": "F-pqQthJ6lI3"
      },
      "source": [
        "<a id='3.1.1'></a>\n",
        "### 4.1.1. Analysing the categorical features "
      ]
    },
    {
      "cell_type": "markdown",
      "metadata": {
        "id": "Eqli97ti6lI4"
      },
      "source": [
        "#### Feature- Employement Length"
      ]
    },
    {
      "cell_type": "code",
      "execution_count": null,
      "metadata": {
        "id": "GxRUFeWt6lI4",
        "outputId": "11cfe0b4-8b10-4195-c2a3-c12669ddd512",
        "colab": {
          "base_uri": "https://localhost:8080/",
          "height": 298
        }
      },
      "outputs": [
        {
          "output_type": "execute_result",
          "data": {
            "text/plain": [
              "<matplotlib.axes._subplots.AxesSubplot at 0x7f51cf8ab390>"
            ]
          },
          "metadata": {},
          "execution_count": 46
        },
        {
          "output_type": "display_data",
          "data": {
            "text/plain": [
              "<Figure size 432x288 with 1 Axes>"
            ],
            "image/png": "[encoded data removed]"
          },
          "metadata": {
            "needs_background": "light"
          }
        }
      ],
      "source": [
        "NotPlaced_rates = dataset.groupby('Experience_Yrs')['Not_Placed'].value_counts(normalize=True).loc[:,1]\n",
        "sns.barplot(x=NotPlaced_rates.index, y=NotPlaced_rates.values, color='#5975A4', saturation=1)"
      ]
    },
    {
      "cell_type": "markdown",
      "metadata": {
        "id": "6Vh2CvP06lI4"
      },
      "source": [
        "Placement seems to vary a bit depending on years of experience; 1 year of experience seems to place the most."
      ]
    },
    {
      "cell_type": "markdown",
      "metadata": {
        "id": "ObuV_TnG6lI5"
      },
      "source": [
        "#### Feature : Test scores"
      ]
    },
    {
      "cell_type": "code",
      "execution_count": null,
      "metadata": {
        "id": "OY5dY7w56lI5",
        "outputId": "e1aa51cd-e598-4cc9-e9d1-3a6c39e0ab85",
        "colab": {
          "base_uri": "https://localhost:8080/",
          "height": 377
        }
      },
      "outputs": [
        {
          "output_type": "execute_result",
          "data": {
            "text/plain": [
              "<matplotlib.axes._subplots.AxesSubplot at 0x7f51ced0a050>"
            ]
          },
          "metadata": {},
          "execution_count": 52
        },
        {
          "output_type": "display_data",
          "data": {
            "text/plain": [
              "<Figure size 1800x360 with 1 Axes>"
            ],
            "image/png": "[encoded data removed]"
          },
          "metadata": {}
        }
      ],
      "source": [
        "NotPlaced_rates = dataset.groupby('Percent_SSC')['Not_Placed'].value_counts(normalize=True).loc[:,1]\n",
        "sns.set(rc={'figure.figsize':(25,5)})\n",
        "sns.barplot(x=NotPlaced_rates.index, y=NotPlaced_rates.values, color='#5975A4', saturation=1)\n"
      ]
    },
    {
      "cell_type": "code",
      "source": [
        "NotPlaced_rates = dataset.groupby('Percent_HSC')['Not_Placed'].value_counts(normalize=True).loc[:,1]\n",
        "sns.set(rc={'figure.figsize':(25,5)})\n",
        "sns.barplot(x=NotPlaced_rates.index, y=NotPlaced_rates.values, color='#5975A4', saturation=1)\n"
      ],
      "metadata": {
        "colab": {
          "base_uri": "https://localhost:8080/",
          "height": 334
        },
        "id": "9fqA1Tv5UyVH",
        "outputId": "07ddb66f-ebf4-46a8-bba4-4dc2d407b1c5"
      },
      "execution_count": null,
      "outputs": [
        {
          "output_type": "execute_result",
          "data": {
            "text/plain": [
              "<matplotlib.axes._subplots.AxesSubplot at 0x7f51ceafff50>"
            ]
          },
          "metadata": {},
          "execution_count": 53
        },
        {
          "output_type": "display_data",
          "data": {
            "text/plain": [
              "<Figure size 1800x360 with 1 Axes>"
            ],
            "image/png": "[encoded data removed]"
          },
          "metadata": {}
        }
      ]
    },
    {
      "cell_type": "code",
      "source": [
        "NotPlaced_rates = dataset.groupby('Percentile_ET')['Not_Placed'].value_counts(normalize=True).loc[:,1]\n",
        "sns.set(rc={'figure.figsize':(25,5)})\n",
        "sns.barplot(x=NotPlaced_rates.index, y=NotPlaced_rates.values, color='#5975A4', saturation=1)"
      ],
      "metadata": {
        "colab": {
          "base_uri": "https://localhost:8080/",
          "height": 333
        },
        "id": "WtfM9Xf5V5ud",
        "outputId": "51fca6ff-2e1f-4c87-fa97-8357e389628e"
      },
      "execution_count": null,
      "outputs": [
        {
          "output_type": "execute_result",
          "data": {
            "text/plain": [
              "<matplotlib.axes._subplots.AxesSubplot at 0x7f51ce70f310>"
            ]
          },
          "metadata": {},
          "execution_count": 56
        },
        {
          "output_type": "display_data",
          "data": {
            "text/plain": [
              "<Figure size 1800x360 with 1 Axes>"
            ],
            "image/png": "[encoded data removed]"
          },
          "metadata": {}
        }
      ]
    },
    {
      "cell_type": "markdown",
      "metadata": {
        "id": "aE8n_J-56lI5"
      },
      "source": [
        "There is NOT a clear trend that shows the SSCL scores against students not being placed."
      ]
    },
    {
      "cell_type": "markdown",
      "metadata": {
        "id": "g1nPBtpg6lI5"
      },
      "source": [
        "<a id='3.1.2'></a>\n",
        "### 4.1.2. Analysing the continuous features "
      ]
    },
    {
      "cell_type": "markdown",
      "metadata": {
        "id": "Pp4j8GDc6lI5"
      },
      "source": [
        "#### Feature : Annual Income"
      ]
    },
    {
      "cell_type": "code",
      "execution_count": null,
      "metadata": {
        "id": "ZyYBPh6y6lI5"
      },
      "outputs": [],
      "source": [
        "dataset[['annual_inc']].describe()"
      ]
    },
    {
      "cell_type": "markdown",
      "metadata": {
        "id": "RCGtNQDK6lI6"
      },
      "source": [
        "Annual income ranges from 0  to  9,550,000, with a median of $65,000. \n",
        "Because of the large range of incomes, we should take a log transform of the annual income variable."
      ]
    },
    {
      "cell_type": "code",
      "execution_count": null,
      "metadata": {
        "id": "H-dul_qL6lI6"
      },
      "outputs": [],
      "source": [
        "dataset['log_annual_inc'] = dataset['annual_inc'].apply(lambda x: np.log10(x+1))\n",
        "dataset.drop('annual_inc', axis=1, inplace=True)"
      ]
    },
    {
      "cell_type": "markdown",
      "metadata": {
        "id": "1bAbNByn6lI6"
      },
      "source": [
        "#### FICO Scores"
      ]
    },
    {
      "cell_type": "code",
      "execution_count": null,
      "metadata": {
        "id": "ufIn8nG-6lI7"
      },
      "outputs": [],
      "source": [
        "dataset[['fico_range_low','fico_range_high']].corr()"
      ]
    },
    {
      "cell_type": "markdown",
      "metadata": {
        "id": "79luDchP6lI7"
      },
      "source": [
        "Given that the correlation between fico low and high is 1 it is preferred to keep only one feature which is average of FICO Scores"
      ]
    },
    {
      "cell_type": "code",
      "execution_count": null,
      "metadata": {
        "id": "OxyQQWYt6lI7"
      },
      "outputs": [],
      "source": [
        "dataset['fico_score'] = 0.5*dataset['fico_range_low'] + 0.5*dataset['fico_range_high']\n",
        "\n",
        "dataset.drop(['fico_range_high', 'fico_range_low'], axis=1, inplace=True)"
      ]
    },
    {
      "cell_type": "code",
      "execution_count": null,
      "metadata": {
        "id": "Xdheoyrb6lI7"
      },
      "outputs": [],
      "source": [
        "dataset['charged_off'].value_counts()"
      ]
    },
    {
      "cell_type": "markdown",
      "metadata": {
        "id": "EN247Jk86lI7"
      },
      "source": [
        "<a id='3.2'></a>\n",
        "## 4.2. Encoding Categorical Data"
      ]
    },
    {
      "cell_type": "code",
      "execution_count": null,
      "metadata": {
        "id": "_PdEwZ6a6lI7"
      },
      "outputs": [],
      "source": [
        "from sklearn.preprocessing import LabelEncoder"
      ]
    },
    {
      "cell_type": "code",
      "execution_count": null,
      "metadata": {
        "id": "OGiYcbu26lI7"
      },
      "outputs": [],
      "source": [
        "# Categorical boolean mask\n",
        "categorical_feature_mask = dataset.dtypes==object\n",
        "# filter categorical columns using mask and turn it into a list\n",
        "categorical_cols = dataset.columns[categorical_feature_mask].tolist()"
      ]
    },
    {
      "cell_type": "code",
      "execution_count": null,
      "metadata": {
        "id": "ySsEkZYy6lI7"
      },
      "outputs": [],
      "source": [
        "categorical_cols"
      ]
    },
    {
      "cell_type": "code",
      "execution_count": null,
      "metadata": {
        "id": "BpFbJn7R6lI7"
      },
      "outputs": [],
      "source": [
        "le = LabelEncoder()\n",
        "# apply le on categorical feature columns\n",
        "dataset[categorical_cols] = dataset[categorical_cols].apply(lambda col: le.fit_transform(col))\n",
        "dataset[categorical_cols].head(10)"
      ]
    },
    {
      "cell_type": "code",
      "execution_count": null,
      "metadata": {
        "id": "_B0-HQxx6lI7"
      },
      "outputs": [],
      "source": [
        "dataset.head(5)"
      ]
    },
    {
      "cell_type": "code",
      "execution_count": null,
      "metadata": {
        "id": "yhWYXUdg6lI7"
      },
      "outputs": [],
      "source": [
        "dataset.shape"
      ]
    },
    {
      "cell_type": "markdown",
      "metadata": {
        "id": "zdYp081D6lI7"
      },
      "source": [
        "<a id='3.4'></a>\n",
        "## 4.3. Sampling Data"
      ]
    },
    {
      "cell_type": "code",
      "execution_count": null,
      "metadata": {
        "id": "z7-mdM9y6lI7"
      },
      "outputs": [],
      "source": [
        "loanstatus_0 = dataset[dataset[\"charged_off\"]==0]\n",
        "loanstatus_1 = dataset[dataset[\"charged_off\"]==1]\n",
        "subset_of_loanstatus_0 = loanstatus_0.sample(n=5500)\n",
        "subset_of_loanstatus_1 = loanstatus_1.sample(n=5500)\n",
        "dataset = pd.concat([subset_of_loanstatus_1, subset_of_loanstatus_0])\n",
        "dataset = dataset.sample(frac=1).reset_index(drop=True)\n",
        "print(\"Current shape of dataset :\",dataset.shape)\n",
        "dataset.head()"
      ]
    },
    {
      "cell_type": "code",
      "execution_count": null,
      "metadata": {
        "id": "Q4LdW7ab6lI7"
      },
      "outputs": [],
      "source": [
        "#Filling the NAs with the mean of the column.\n",
        "dataset.fillna(dataset.mean(),inplace = True)"
      ]
    },
    {
      "cell_type": "markdown",
      "metadata": {
        "id": "YtHSh9RN6lI7"
      },
      "source": [
        "<a id='4'></a>\n",
        "# 5. Evaluate Algorithms and Models"
      ]
    },
    {
      "cell_type": "markdown",
      "metadata": {
        "id": "GiXQ_gET6lI7"
      },
      "source": [
        "<a id='4.1'></a>\n",
        "## 5.1. Train Test Split"
      ]
    },
    {
      "cell_type": "code",
      "execution_count": null,
      "metadata": {
        "id": "jtau7_Zj6lI7"
      },
      "outputs": [],
      "source": [
        "# split out validation dataset for the end\n",
        "Y= dataset[\"charged_off\"]\n",
        "X = dataset.loc[:, dataset.columns != 'charged_off']\n",
        "validation_size = 0.2\n",
        "seed = 7\n",
        "X_train, X_validation, Y_train, Y_validation = train_test_split(X, Y, test_size=validation_size, random_state=seed)"
      ]
    },
    {
      "cell_type": "code",
      "execution_count": null,
      "metadata": {
        "id": "wvmBi0j66lI8"
      },
      "outputs": [],
      "source": [
        "# dataset_temp2=dataset_temp.dropna(axis=0)\n",
        "# Y_total= dataset_temp2[\"charged_off\"]\n",
        "# X_total = dataset_temp2.loc[:, dataset.columns != 'charged_off']\n",
        "# X_dummy, X_validation, Y_dummy, Y_validation = train_test_split(X_total, Y_total, test_size=validation_size)"
      ]
    },
    {
      "cell_type": "code",
      "execution_count": null,
      "metadata": {
        "id": "gvSEzJN76lI8"
      },
      "outputs": [],
      "source": [
        "dataset['charged_off'].value_counts()"
      ]
    },
    {
      "cell_type": "markdown",
      "metadata": {
        "id": "QTUsyGz26lI8"
      },
      "source": [
        "<a id='4.2'></a>\n",
        "## 5.2. Test Options and Evaluation Metrics\n"
      ]
    },
    {
      "cell_type": "code",
      "execution_count": null,
      "metadata": {
        "_cell_guid": "5702bc31-06bf-8b6a-42de-366a6b3311a8",
        "id": "LSJwhwny6lI8"
      },
      "outputs": [],
      "source": [
        "# test options for classification\n",
        "num_folds = 10\n",
        "seed = 7\n",
        "#scoring = 'accuracy'\n",
        "#scoring ='precision'\n",
        "#scoring ='recall'\n",
        "scoring = 'roc_auc'"
      ]
    },
    {
      "cell_type": "markdown",
      "metadata": {
        "id": "yczhW6hl6lI8"
      },
      "source": [
        "<a id='4.3'></a>\n",
        "## 5.3. Compare Models and Algorithms"
      ]
    },
    {
      "cell_type": "markdown",
      "metadata": {
        "id": "v5A2uQlx6lI8"
      },
      "source": [
        "### Classification Models"
      ]
    },
    {
      "cell_type": "code",
      "execution_count": null,
      "metadata": {
        "_cell_guid": "772802f7-f4e4-84ee-6377-6464ab2e5da4",
        "id": "gDNgdKUd6lI8"
      },
      "outputs": [],
      "source": [
        "# spot check the algorithms\n",
        "models = []\n",
        "models.append(('LR', LogisticRegression()))\n",
        "models.append(('LDA', LinearDiscriminantAnalysis()))\n",
        "models.append(('KNN', KNeighborsClassifier()))\n",
        "models.append(('CART', DecisionTreeClassifier()))\n",
        "models.append(('NB', GaussianNB()))\n",
        "#Neural Network\n",
        "models.append(('NN', MLPClassifier()))\n",
        "#Ensable Models \n",
        "# Boosting methods\n",
        "models.append(('AB', AdaBoostClassifier()))\n",
        "models.append(('GBM', GradientBoostingClassifier()))\n",
        "# Bagging methods\n",
        "models.append(('RF', RandomForestClassifier()))\n",
        "models.append(('ET', ExtraTreesClassifier()))"
      ]
    },
    {
      "cell_type": "markdown",
      "metadata": {
        "id": "LrSokMqA6lI8"
      },
      "source": [
        "### K-folds cross validation"
      ]
    },
    {
      "cell_type": "code",
      "execution_count": null,
      "metadata": {
        "_cell_guid": "a784ab4a-eb59-98cc-76cf-b55f382d057a",
        "id": "9umLbJxB6lI9"
      },
      "outputs": [],
      "source": [
        "results = []\n",
        "names = []\n",
        "for name, model in models:\n",
        "    kfold = KFold(n_splits=num_folds, random_state=seed)\n",
        "    cv_results = cross_val_score(model, X_train, Y_train, cv=kfold, scoring=scoring)\n",
        "    results.append(cv_results)\n",
        "    names.append(name)\n",
        "    msg = \"%s: %f (%f)\" % (name, cv_results.mean(), cv_results.std())\n",
        "    print(msg)"
      ]
    },
    {
      "cell_type": "markdown",
      "metadata": {
        "id": "nXld_rgI6lI9"
      },
      "source": [
        "### Algorithm comparison"
      ]
    },
    {
      "cell_type": "code",
      "execution_count": null,
      "metadata": {
        "id": "KQfOv7aA6lI9"
      },
      "outputs": [],
      "source": [
        "# compare algorithms\n",
        "fig = pyplot.figure()\n",
        "fig.suptitle('Algorithm Comparison')\n",
        "ax = fig.add_subplot(111)\n",
        "pyplot.boxplot(results)\n",
        "ax.set_xticklabels(names)\n",
        "fig.set_size_inches(15,8)\n",
        "pyplot.show()"
      ]
    },
    {
      "cell_type": "markdown",
      "metadata": {
        "id": "dfyfEI686lI9"
      },
      "source": [
        "<a id='5'></a>\n",
        "# 6. Model Tuning and Grid Search"
      ]
    },
    {
      "cell_type": "markdown",
      "metadata": {
        "_cell_guid": "848ca488-b0fd-8e93-2e68-23d32c71d89c",
        "id": "ZcLWivjt6lI9"
      },
      "source": [
        "Given that the GBM is the best model, Grid Search is performed on GBM in this step."
      ]
    },
    {
      "cell_type": "code",
      "execution_count": null,
      "metadata": {
        "id": "80Xe9GMW6lI9"
      },
      "outputs": [],
      "source": [
        "# Grid Search: GradientBoosting Tuning\n",
        "'''\n",
        "n_estimators : int (default=100)\n",
        "    The number of boosting stages to perform. \n",
        "    Gradient boosting is fairly robust to over-fitting so a large number usually results in better performance.\n",
        "max_depth : integer, optional (default=3)\n",
        "    maximum depth of the individual regression estimators. \n",
        "    The maximum depth limits the number of nodes in the tree. \n",
        "    Tune this parameter for best performance; the best value depends on the interaction of the input variables.\n",
        "\n",
        "''' \n",
        "n_estimators = [20,180]\n",
        "max_depth= [3,5]\n",
        "param_grid = dict(n_estimators=n_estimators, max_depth=max_depth)\n",
        "model = GradientBoostingClassifier()\n",
        "kfold = KFold(n_splits=num_folds, random_state=seed)\n",
        "grid = GridSearchCV(estimator=model, param_grid=param_grid, scoring=scoring, cv=kfold)\n",
        "grid_result = grid.fit(X_train, Y_train)\n",
        "\n",
        "#Print Results\n",
        "print(\"Best: %f using %s\" % (grid_result.best_score_, grid_result.best_params_))\n",
        "means = grid_result.cv_results_['mean_test_score']\n",
        "stds = grid_result.cv_results_['std_test_score']\n",
        "params = grid_result.cv_results_['params']\n",
        "ranks = grid_result.cv_results_['rank_test_score']\n",
        "for mean, stdev, param, rank in zip(means, stds, params, ranks):\n",
        "    print(\"#%d %f (%f) with: %r\" % (rank, mean, stdev, param))"
      ]
    },
    {
      "cell_type": "markdown",
      "metadata": {
        "id": "t4sV_kTC6lI9"
      },
      "source": [
        "<a id='6'></a>\n",
        "# 7. Finalise the Model"
      ]
    },
    {
      "cell_type": "markdown",
      "metadata": {
        "id": "IX4pdHQR6lI-"
      },
      "source": [
        "Looking at the details above GBM might be worthy of further study, but for now SVM shows a lot of promise as a low complexity and stable model for this problem.\n",
        "\n",
        "Finalize Model with best parameters found during tuning step."
      ]
    },
    {
      "cell_type": "markdown",
      "metadata": {
        "id": "Cp5p-AY56lI_"
      },
      "source": [
        "<a id='6.1'></a>\n",
        "## 7.1. Results on the Test Dataset"
      ]
    },
    {
      "cell_type": "code",
      "execution_count": null,
      "metadata": {
        "id": "xKlnKRn_6lI_"
      },
      "outputs": [],
      "source": [
        "# prepare model\n",
        "model = GradientBoostingClassifier(max_depth= 5, n_estimators= 180)\n",
        "model.fit(X_train, Y_train)"
      ]
    },
    {
      "cell_type": "code",
      "execution_count": null,
      "metadata": {
        "_cell_guid": "f9725666-3c21-69d1-ddf6-45e47d982444",
        "id": "OXaSJbnr6lI_"
      },
      "outputs": [],
      "source": [
        "# estimate accuracy on validation set\n",
        "predictions = model.predict(X_validation)\n",
        "print(accuracy_score(Y_validation, predictions))\n",
        "print(confusion_matrix(Y_validation, predictions))\n",
        "print(classification_report(Y_validation, predictions))"
      ]
    },
    {
      "cell_type": "code",
      "execution_count": null,
      "metadata": {
        "id": "MegxauG16lI_"
      },
      "outputs": [],
      "source": [
        "df_cm = pd.DataFrame(confusion_matrix(Y_validation, predictions), columns=np.unique(Y_validation), index = np.unique(Y_validation))\n",
        "df_cm.index.name = 'Actual'\n",
        "df_cm.columns.name = 'Predicted'\n",
        "sns.heatmap(df_cm, cmap=\"Blues\", annot=True,annot_kws={\"size\": 16})# font sizes"
      ]
    },
    {
      "cell_type": "markdown",
      "metadata": {
        "id": "vk0InL2v6lJA"
      },
      "source": [
        "<a id='6.2'></a>\n",
        "## 7.2. Variable Intuition/Feature Importance\n",
        "Looking at the details above GBM might be worthy of further study.\n",
        "Let us look into the Feature Importance of the GBM model"
      ]
    },
    {
      "cell_type": "code",
      "execution_count": null,
      "metadata": {
        "id": "opVTcrSv6lJA"
      },
      "outputs": [],
      "source": [
        "print(model.feature_importances_) #use inbuilt class feature_importances of tree based classifiers\n",
        "#plot graph of feature importances for better visualization\n",
        "feat_importances = pd.Series(model.feature_importances_, index=X.columns)\n",
        "feat_importances.nlargest(10).plot(kind='barh')\n",
        "pyplot.show()"
      ]
    },
    {
      "cell_type": "markdown",
      "metadata": {
        "id": "PyONAkc56lJA"
      },
      "source": [
        "__Conclusion__:\n",
        "\n",
        "We showed that data preparation is one of the most important steps. We addressed\n",
        "that by performing feature elimination by using different techniques such as subjec‐\n",
        "tive judgement, correlation, visualization and the data quality of the feature.\n",
        "We illustrated that there can be different ways of handling and analyzing the categorical data and converting categorical data into model usable format.\n",
        "\n",
        "Finally, we analyzed the feature importance and found that results of the case study\n",
        "are quite intuitive.\n",
        "\n"
      ]
    }
  ],
  "metadata": {
    "_change_revision": 206,
    "_is_fork": false,
    "kernelspec": {
      "display_name": "Python 3",
      "language": "python",
      "name": "python3"
    },
    "language_info": {
      "codemirror_mode": {
        "name": "ipython",
        "version": 3
      },
      "file_extension": ".py",
      "mimetype": "text/x-python",
      "name": "python",
      "nbconvert_exporter": "python",
      "pygments_lexer": "ipython3",
      "version": "3.7.3"
    },
    "colab": {
      "name": "Feature selection based on loan default probability.ipynb",
      "provenance": [],
      "collapsed_sections": [
        "F-pqQthJ6lI3",
        "yD00cW_J6lI3",
        "Eqli97ti6lI4",
        "ObuV_TnG6lI5",
        "g1nPBtpg6lI5",
        "Pp4j8GDc6lI5",
        "1bAbNByn6lI6",
        "v5A2uQlx6lI8",
        "LrSokMqA6lI8",
        "nXld_rgI6lI9"
      ],
      "include_colab_link": true
    }
  },
  "nbformat": 4,
  "nbformat_minor": 0
}